{
 "cells": [
  {
   "cell_type": "markdown",
   "metadata": {},
   "source": [
    "### Importing the required Libraries"
   ]
  },
  {
   "cell_type": "code",
   "execution_count": 2,
   "metadata": {},
   "outputs": [],
   "source": [
    "import cv2\n",
    "import numpy as np\n",
    "import os\n",
    "from datetime import datetime\n",
    "import face_recognition"
   ]
  },
  {
   "cell_type": "markdown",
   "metadata": {},
   "source": [
    "### Loading Images"
   ]
  },
  {
   "cell_type": "code",
   "execution_count": 3,
   "metadata": {},
   "outputs": [],
   "source": [
    "path = r'C:\\Users\\Hp\\Desktop\\other\\Data science models\\Open CV\\Attendance with Face recognition\\Face Recognation Data'\n",
    "#Creating the empty Lists to store Images_data(Array datatype) and image_name, myList for images \n",
    "images = []\n",
    "classNames = []\n",
    "myList = os.listdir(path)"
   ]
  },
  {
   "cell_type": "markdown",
   "metadata": {},
   "source": [
    "### Encoding Process"
   ]
  },
  {
   "cell_type": "code",
   "execution_count": 5,
   "metadata": {},
   "outputs": [
    {
     "name": "stdout",
     "output_type": "stream",
     "text": [
      "Anu.jpeg\n",
      "Jai.jpeg\n",
      "Jyothsna.jpeg\n",
      "Kiran.jpeg\n",
      "Laxmi.jpeg\n",
      "Pranavi.jpeg\n",
      "Rajashekar.jpeg\n",
      "Rakesh.jpeg\n",
      "Sonu.jpeg\n",
      "Encoding Completed\n",
      "9\n"
     ]
    }
   ],
   "source": [
    "#loading images to empty lists\n",
    "for cl in myList:\n",
    "    #print(cl)\n",
    "    #reading current image in the folder with Open CV module\n",
    "    curImg = cv2.imread(f'{path}/{cl}')\n",
    "    #appending images and respective name of the person with help of photo_name to empty list \n",
    "    images.append(curImg)\n",
    "    classNames.append(os.path.splitext(cl)[0])\n",
    "       #encodings for images\n",
    "def findEncodings(images):\n",
    "    #create empty list for encodeimages\n",
    "    encodelist = []\n",
    "    for img in images:\n",
    "        #converting into RBG\n",
    "        img = cv2.cvtColor(img,cv2.COLOR_BGR2RGB)\n",
    "        #finding the encodings\n",
    "        encode = face_recognition.face_encodings(img)[0]\n",
    "        #appending encoded images into empty list\n",
    "        encodelist.append(encode)\n",
    "    return encodelist\n",
    "#Defining a Function for Markattendance\n",
    "def markattendance(name):\n",
    "    #opening csv file and reading and writting\n",
    "    with open(r'C:\\Users\\Hp\\Desktop\\other\\Data science models\\Open CV\\Attendance with Face recognition\\Attendance.csv','r+') as f:\n",
    "        #reading lines from CSV\n",
    "        myDataList = f.readlines()\n",
    "        #empty list for name column\n",
    "        namelist = []\n",
    "        print(myDataList)\n",
    "        #identified image name storing in empty list\n",
    "        for line in myDataList:\n",
    "            entry = line.split(',')\n",
    "            namelist.append(entry[0])\n",
    "            #date and time for identified image and storing in Date and Time columns\n",
    "        if name not in namelist:\n",
    "            date = datetime.today().strftime('%d-%m-%Y')\n",
    "            now = datetime.now()\n",
    "            dtString = now.strftime('%H:%M:%S')\n",
    "            #writting Name,Date,Time in CSV file\n",
    "            f.writelines(f'\\n{name},{date},{dtString}')\n",
    "\n",
    " #applying findEncodings Function  \n",
    "encodelistKnown = findEncodings(images)\n",
    "print('Encoding Completed')\n",
    "print(len(encodelistKnown))"
   ]
  },
  {
   "cell_type": "markdown",
   "metadata": {},
   "source": [
    "### Finding the matches"
   ]
  },
  {
   "cell_type": "code",
   "execution_count": null,
   "metadata": {},
   "outputs": [
    {
     "name": "stdout",
     "output_type": "stream",
     "text": [
      "['Name,Date,Time\\n', '\\n', 'RAKESH,09-07-2020,21:35:11']\n",
      "['Name,Date,Time\\n', '\\n', 'RAKESH,09-07-2020,21:35:11\\n', 'SONU,10-07-2020,09:16:34']\n",
      "['Name,Date,Time\\n', '\\n', 'RAKESH,09-07-2020,21:35:11\\n', 'SONU,10-07-2020,09:16:34']\n",
      "['Name,Date,Time\\n', '\\n', 'RAKESH,09-07-2020,21:35:11\\n', 'SONU,10-07-2020,09:16:34\\n', 'PRANAVI,10-07-2020,09:17:11']\n",
      "['Name,Date,Time\\n', '\\n', 'RAKESH,09-07-2020,21:35:11\\n', 'SONU,10-07-2020,09:16:34\\n', 'PRANAVI,10-07-2020,09:17:11']\n",
      "['Name,Date,Time\\n', '\\n', 'RAKESH,09-07-2020,21:35:11\\n', 'SONU,10-07-2020,09:16:34\\n', 'PRANAVI,10-07-2020,09:17:11']\n",
      "['Name,Date,Time\\n', '\\n', 'RAKESH,09-07-2020,21:35:11\\n', 'SONU,10-07-2020,09:16:34\\n', 'PRANAVI,10-07-2020,09:17:11\\n', 'KIRAN,10-07-2020,09:18:36']\n",
      "['Name,Date,Time\\n', '\\n', 'RAKESH,09-07-2020,21:35:11\\n', 'SONU,10-07-2020,09:16:34\\n', 'PRANAVI,10-07-2020,09:17:11\\n', 'KIRAN,10-07-2020,09:18:36']\n",
      "['Name,Date,Time\\n', '\\n', 'RAKESH,09-07-2020,21:35:11\\n', 'SONU,10-07-2020,09:16:34\\n', 'PRANAVI,10-07-2020,09:17:11\\n', 'KIRAN,10-07-2020,09:18:36\\n', 'JYOTHSNA,10-07-2020,09:19:55']\n",
      "['Name,Date,Time\\n', '\\n', 'RAKESH,09-07-2020,21:35:11\\n', 'SONU,10-07-2020,09:16:34\\n', 'PRANAVI,10-07-2020,09:17:11\\n', 'KIRAN,10-07-2020,09:18:36\\n', 'JYOTHSNA,10-07-2020,09:19:55']\n",
      "['Name,Date,Time\\n', '\\n', 'RAKESH,09-07-2020,21:35:11\\n', 'SONU,10-07-2020,09:16:34\\n', 'PRANAVI,10-07-2020,09:17:11\\n', 'KIRAN,10-07-2020,09:18:36\\n', 'JYOTHSNA,10-07-2020,09:19:55']\n",
      "['Name,Date,Time\\n', '\\n', 'RAKESH,09-07-2020,21:35:11\\n', 'SONU,10-07-2020,09:16:34\\n', 'PRANAVI,10-07-2020,09:17:11\\n', 'KIRAN,10-07-2020,09:18:36\\n', 'JYOTHSNA,10-07-2020,09:19:55']\n",
      "['Name,Date,Time\\n', '\\n', 'RAKESH,09-07-2020,21:35:11\\n', 'SONU,10-07-2020,09:16:34\\n', 'PRANAVI,10-07-2020,09:17:11\\n', 'KIRAN,10-07-2020,09:18:36\\n', 'JYOTHSNA,10-07-2020,09:19:55']\n",
      "['Name,Date,Time\\n', '\\n', 'RAKESH,09-07-2020,21:35:11\\n', 'SONU,10-07-2020,09:16:34\\n', 'PRANAVI,10-07-2020,09:17:11\\n', 'KIRAN,10-07-2020,09:18:36\\n', 'JYOTHSNA,10-07-2020,09:19:55']\n",
      "['Name,Date,Time\\n', '\\n', 'RAKESH,09-07-2020,21:35:11\\n', 'SONU,10-07-2020,09:16:34\\n', 'PRANAVI,10-07-2020,09:17:11\\n', 'KIRAN,10-07-2020,09:18:36\\n', 'JYOTHSNA,10-07-2020,09:19:55']\n",
      "['Name,Date,Time\\n', '\\n', 'RAKESH,09-07-2020,21:35:11\\n', 'SONU,10-07-2020,09:16:34\\n', 'PRANAVI,10-07-2020,09:17:11\\n', 'KIRAN,10-07-2020,09:18:36\\n', 'JYOTHSNA,10-07-2020,09:19:55']\n",
      "['Name,Date,Time\\n', '\\n', 'RAKESH,09-07-2020,21:35:11\\n', 'SONU,10-07-2020,09:16:34\\n', 'PRANAVI,10-07-2020,09:17:11\\n', 'KIRAN,10-07-2020,09:18:36\\n', 'JYOTHSNA,10-07-2020,09:19:55']\n",
      "['Name,Date,Time\\n', '\\n', 'RAKESH,09-07-2020,21:35:11\\n', 'SONU,10-07-2020,09:16:34\\n', 'PRANAVI,10-07-2020,09:17:11\\n', 'KIRAN,10-07-2020,09:18:36\\n', 'JYOTHSNA,10-07-2020,09:19:55']\n",
      "['Name,Date,Time\\n', '\\n', 'RAKESH,09-07-2020,21:35:11\\n', 'SONU,10-07-2020,09:16:34\\n', 'PRANAVI,10-07-2020,09:17:11\\n', 'KIRAN,10-07-2020,09:18:36\\n', 'JYOTHSNA,10-07-2020,09:19:55']\n",
      "['Name,Date,Time\\n', '\\n', 'RAKESH,09-07-2020,21:35:11\\n', 'SONU,10-07-2020,09:16:34\\n', 'PRANAVI,10-07-2020,09:17:11\\n', 'KIRAN,10-07-2020,09:18:36\\n', 'JYOTHSNA,10-07-2020,09:19:55']\n",
      "['Name,Date,Time\\n', '\\n', 'RAKESH,09-07-2020,21:35:11\\n', 'SONU,10-07-2020,09:16:34\\n', 'PRANAVI,10-07-2020,09:17:11\\n', 'KIRAN,10-07-2020,09:18:36\\n', 'JYOTHSNA,10-07-2020,09:19:55']\n",
      "['Name,Date,Time\\n', '\\n', 'RAKESH,09-07-2020,21:35:11\\n', 'SONU,10-07-2020,09:16:34\\n', 'PRANAVI,10-07-2020,09:17:11\\n', 'KIRAN,10-07-2020,09:18:36\\n', 'JYOTHSNA,10-07-2020,09:19:55']\n",
      "['Name,Date,Time\\n', '\\n', 'RAKESH,09-07-2020,21:35:11\\n', 'SONU,10-07-2020,09:16:34\\n', 'PRANAVI,10-07-2020,09:17:11\\n', 'KIRAN,10-07-2020,09:18:36\\n', 'JYOTHSNA,10-07-2020,09:19:55']\n",
      "['Name,Date,Time\\n', '\\n', 'RAKESH,09-07-2020,21:35:11\\n', 'SONU,10-07-2020,09:16:34\\n', 'PRANAVI,10-07-2020,09:17:11\\n', 'KIRAN,10-07-2020,09:18:36\\n', 'JYOTHSNA,10-07-2020,09:19:55']\n",
      "['Name,Date,Time\\n', '\\n', 'RAKESH,09-07-2020,21:35:11\\n', 'SONU,10-07-2020,09:16:34\\n', 'PRANAVI,10-07-2020,09:17:11\\n', 'KIRAN,10-07-2020,09:18:36\\n', 'JYOTHSNA,10-07-2020,09:19:55']\n",
      "['Name,Date,Time\\n', '\\n', 'RAKESH,09-07-2020,21:35:11\\n', 'SONU,10-07-2020,09:16:34\\n', 'PRANAVI,10-07-2020,09:17:11\\n', 'KIRAN,10-07-2020,09:18:36\\n', 'JYOTHSNA,10-07-2020,09:19:55']\n",
      "['Name,Date,Time\\n', '\\n', 'RAKESH,09-07-2020,21:35:11\\n', 'SONU,10-07-2020,09:16:34\\n', 'PRANAVI,10-07-2020,09:17:11\\n', 'KIRAN,10-07-2020,09:18:36\\n', 'JYOTHSNA,10-07-2020,09:19:55']\n",
      "['Name,Date,Time\\n', '\\n', 'RAKESH,09-07-2020,21:35:11\\n', 'SONU,10-07-2020,09:16:34\\n', 'PRANAVI,10-07-2020,09:17:11\\n', 'KIRAN,10-07-2020,09:18:36\\n', 'JYOTHSNA,10-07-2020,09:19:55']\n",
      "['Name,Date,Time\\n', '\\n', 'RAKESH,09-07-2020,21:35:11\\n', 'SONU,10-07-2020,09:16:34\\n', 'PRANAVI,10-07-2020,09:17:11\\n', 'KIRAN,10-07-2020,09:18:36\\n', 'JYOTHSNA,10-07-2020,09:19:55']\n",
      "['Name,Date,Time\\n', '\\n', 'RAKESH,09-07-2020,21:35:11\\n', 'SONU,10-07-2020,09:16:34\\n', 'PRANAVI,10-07-2020,09:17:11\\n', 'KIRAN,10-07-2020,09:18:36\\n', 'JYOTHSNA,10-07-2020,09:19:55']\n",
      "['Name,Date,Time\\n', '\\n', 'RAKESH,09-07-2020,21:35:11\\n', 'SONU,10-07-2020,09:16:34\\n', 'PRANAVI,10-07-2020,09:17:11\\n', 'KIRAN,10-07-2020,09:18:36\\n', 'JYOTHSNA,10-07-2020,09:19:55']\n",
      "['Name,Date,Time\\n', '\\n', 'RAKESH,09-07-2020,21:35:11\\n', 'SONU,10-07-2020,09:16:34\\n', 'PRANAVI,10-07-2020,09:17:11\\n', 'KIRAN,10-07-2020,09:18:36\\n', 'JYOTHSNA,10-07-2020,09:19:55']\n",
      "['Name,Date,Time\\n', '\\n', 'RAKESH,09-07-2020,21:35:11\\n', 'SONU,10-07-2020,09:16:34\\n', 'PRANAVI,10-07-2020,09:17:11\\n', 'KIRAN,10-07-2020,09:18:36\\n', 'JYOTHSNA,10-07-2020,09:19:55']\n",
      "['Name,Date,Time\\n', '\\n', 'RAKESH,09-07-2020,21:35:11\\n', 'SONU,10-07-2020,09:16:34\\n', 'PRANAVI,10-07-2020,09:17:11\\n', 'KIRAN,10-07-2020,09:18:36\\n', 'JYOTHSNA,10-07-2020,09:19:55']\n"
     ]
    }
   ],
   "source": [
    "#VideoCapture from webcam\n",
    "cap = cv2.VideoCapture(0)\n",
    "while True:\n",
    "    #Capturing video\n",
    "    success, img = cap.read()\n",
    "    #resize the image\n",
    "    imgS = cv2.resize(img,(0,0),None,0.25,0.25)\n",
    "    #coverting the webcam image to RBG \n",
    "    imgS = cv2.cvtColor(imgS,cv2.COLOR_BGR2RGB)\n",
    "    #locating the faces\n",
    "    facesCurFrame = face_recognition.face_locations(imgS)\n",
    "    #Encoding the webcam images\n",
    "    encodeCurFrame = face_recognition.face_encodings(imgS,facesCurFrame)\n",
    "    #finding the matches\n",
    "    for encodeFace,faceLoc in zip(encodeCurFrame,facesCurFrame):\n",
    "        matchs = face_recognition.compare_faces(encodelistKnown,encodeFace)\n",
    "        faceDis = face_recognition.face_distance(encodelistKnown,encodeFace)\n",
    "        #lowest face distance  is the best match\n",
    "        #print(faceDis)\n",
    "        matchIndex = np.argmin(faceDis)\n",
    "        \n",
    "        #Bounding box around face\n",
    "        if matchs[matchIndex]:\n",
    "            name = classNames[matchIndex].upper()\n",
    "            #print(name)\n",
    "            y1,x2,y2,x1 = faceLoc\n",
    "            y1,x2,y2,x1 = y1*4,x2*4,y2*4,x1*4\n",
    "            cv2.rectangle(img,(x1,y1),(x2,y2),(0.255,0),2)\n",
    "            cv2.rectangle(img,(x1,y2-35),(x2,y2),(0.255,0),cv2.FILLED)\n",
    "            cv2.putText(img,name,(x1+6,y2-6),cv2.FONT_HERSHEY_COMPLEX,1,(255,255,255),2)\n",
    "            markattendance(name)\n",
    "        cv2.imshow('webcam',img)\n",
    "        cv2.waitKey(1)"
   ]
  },
  {
   "cell_type": "code",
   "execution_count": null,
   "metadata": {},
   "outputs": [],
   "source": []
  },
  {
   "cell_type": "code",
   "execution_count": null,
   "metadata": {},
   "outputs": [],
   "source": []
  },
  {
   "cell_type": "code",
   "execution_count": null,
   "metadata": {},
   "outputs": [],
   "source": []
  }
 ],
 "metadata": {
  "kernelspec": {
   "display_name": "Python 3",
   "language": "python",
   "name": "python3"
  },
  "language_info": {
   "codemirror_mode": {
    "name": "ipython",
    "version": 3
   },
   "file_extension": ".py",
   "mimetype": "text/x-python",
   "name": "python",
   "nbconvert_exporter": "python",
   "pygments_lexer": "ipython3",
   "version": "3.7.6"
  }
 },
 "nbformat": 4,
 "nbformat_minor": 4
}
